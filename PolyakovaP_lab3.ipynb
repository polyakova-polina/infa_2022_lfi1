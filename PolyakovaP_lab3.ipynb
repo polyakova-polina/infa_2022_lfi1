{
 "cells": [
  {
   "cell_type": "markdown",
   "id": "5255a53c",
   "metadata": {},
   "source": [
    "# Set."
   ]
  },
  {
   "cell_type": "markdown",
   "id": "d0ad19d3",
   "metadata": {},
   "source": [
    "Множество `set` в Python имеет тот же смысл, что понятие множества в математике. `Множество` содержит неупорядоченный набор элементов. Множества поддерживают стандартные математические операции над ними: *объединение, пересечение, разность*. Возможно также добавление и удаление элементов, проверка их принадлежности множеству с помощью оператора `in`. При этом все элементы входят в `set` только один раз, добавление существующего элемента не изменяет множество. Элементами множества могут быть только `неизменяемые` типы, например, его элементами не могут быть списки.\n",
    "\n",
    "### Таблица по взаимодействию элемента и множества\n",
    "Операция  | Значение \n",
    "---|---\n",
    "`x in A`  | $x \\in A$, принадлежит ли элемент x множеству A \n",
    "`x not in A`  | $x \\notin A$ — то же, что `not (x in A)`\n",
    "`A.add(x)`  | добавить элемент x в множество A \n",
    "`A.discard(x)`  | удалить элемент x из множества A \n",
    "`A.remove(x)`  | удалить элемент x из множества A \n",
    "`A.pop()`  | удаляет из множества один случайный элемент и возвращает его "
   ]
  },
  {
   "cell_type": "code",
   "execution_count": null,
   "id": "ad56fed6",
   "metadata": {},
   "outputs": [],
   "source": [
    "a = {1, 2, 3}\n",
    "a.add(4)\n",
    "print(a)"
   ]
  },
  {
   "cell_type": "code",
   "execution_count": null,
   "id": "6a90127d",
   "metadata": {},
   "outputs": [],
   "source": [
    "a.add(1)\n",
    "print(a)"
   ]
  },
  {
   "cell_type": "code",
   "execution_count": null,
   "id": "53becf04",
   "metadata": {},
   "outputs": [],
   "source": [
    "print(0 in a, 1 in a)"
   ]
  },
  {
   "cell_type": "markdown",
   "id": "e16a8de6",
   "metadata": {},
   "source": [
    "Для удаления элементов из множества можно использовать `discard` и `remove`, их поведение различается тогда, когда удаляемый элемент отсутствует в множестве: `discard` не делает ничего, а метод `remove` генерирует исключение `KeyError`, которое вы увидите в одной из ячеек ниже."
   ]
  },
  {
   "cell_type": "code",
   "execution_count": null,
   "id": "c9f2118c",
   "metadata": {},
   "outputs": [],
   "source": [
    "a.remove(1)\n",
    "print(a)"
   ]
  },
  {
   "cell_type": "code",
   "execution_count": null,
   "id": "ae5b6ce3",
   "metadata": {},
   "outputs": [],
   "source": [
    "a.remove(0)\n",
    "print(a)"
   ]
  },
  {
   "cell_type": "code",
   "execution_count": null,
   "id": "37b175ed",
   "metadata": {},
   "outputs": [],
   "source": [
    "print(a)"
   ]
  },
  {
   "cell_type": "code",
   "execution_count": null,
   "id": "b6d7ee48",
   "metadata": {},
   "outputs": [],
   "source": [
    "a.discard(2)\n",
    "print(a)"
   ]
  },
  {
   "cell_type": "code",
   "execution_count": null,
   "id": "b94dfdaa",
   "metadata": {},
   "outputs": [],
   "source": [
    "a.discard(0)\n",
    "print(a)"
   ]
  },
  {
   "cell_type": "markdown",
   "id": "d0044430",
   "metadata": {},
   "source": [
    "Для создания пустого множества или для получения множества из *итерируемого* объекта можно использовать конструктор множеств `set`:"
   ]
  },
  {
   "cell_type": "code",
   "execution_count": null,
   "id": "9e78365e",
   "metadata": {},
   "outputs": [],
   "source": [
    "a = set()\n",
    "print(a)\n",
    "a.add(1)\n",
    "print(a)"
   ]
  },
  {
   "cell_type": "markdown",
   "id": "4a3909df",
   "metadata": {},
   "source": [
    "Конструкция ниже не работает, потому что фигурные скобки используются для создания пустых словарей `dict`, о которых будет сказано ниже."
   ]
  },
  {
   "cell_type": "code",
   "execution_count": null,
   "id": "081b34a5",
   "metadata": {},
   "outputs": [],
   "source": [
    "a = {}\n",
    "print(a)\n",
    "a.add(1)\n",
    "print(a)"
   ]
  },
  {
   "cell_type": "code",
   "execution_count": null,
   "id": "a63e2e10",
   "metadata": {},
   "outputs": [],
   "source": [
    "a = [1, 2, 3, 4]\n",
    "print(set(a))"
   ]
  },
  {
   "cell_type": "code",
   "execution_count": null,
   "id": "ba811ec8",
   "metadata": {},
   "outputs": [],
   "source": [
    "a = [1, 2, 3, 4, 1]\n",
    "print(set(a))"
   ]
  },
  {
   "cell_type": "code",
   "execution_count": null,
   "id": "bcf17c05",
   "metadata": {},
   "outputs": [],
   "source": [
    "a = \"abcd\"\n",
    "print(set(a))"
   ]
  },
  {
   "cell_type": "code",
   "execution_count": null,
   "id": "c36f0c18",
   "metadata": {},
   "outputs": [],
   "source": [
    "a = \"abcda\"\n",
    "print(set(a))"
   ]
  },
  {
   "cell_type": "markdown",
   "id": "c731c54e",
   "metadata": {},
   "source": [
    "Операции над множествами можно записывать как коротко символами, так и названиями соответствующих функций:"
   ]
  },
  {
   "cell_type": "code",
   "execution_count": null,
   "id": "d33cfc22",
   "metadata": {},
   "outputs": [],
   "source": [
    "a = {1, 2, 3, 4}\n",
    "b = {3, 4, 5, 6}\n",
    "print(a.union(b))\n",
    "print(a | b)"
   ]
  },
  {
   "cell_type": "code",
   "execution_count": null,
   "id": "e972d1e3",
   "metadata": {},
   "outputs": [],
   "source": [
    "a = {1, 2, 3, 4}\n",
    "b = {3, 4, 5, 6}\n",
    "print(a.intersection(b))\n",
    "print(a & b)"
   ]
  },
  {
   "cell_type": "code",
   "execution_count": null,
   "id": "b2579082",
   "metadata": {},
   "outputs": [],
   "source": [
    "a = {1, 2, 3, 4}\n",
    "b = {3, 4, 5, 6}\n",
    "print(a.difference(b))\n",
    "print(a - b)"
   ]
  },
  {
   "cell_type": "markdown",
   "id": "7e68bcc1",
   "metadata": {},
   "source": [
    "Симметрическая разность двух множеств - множество, состоящее из элементов, входящих в одно и только одно из данных множеств:"
   ]
  },
  {
   "cell_type": "code",
   "execution_count": null,
   "id": "7ad7c7f5",
   "metadata": {},
   "outputs": [],
   "source": [
    "a = {1, 2, 3, 4}\n",
    "b = {3, 4, 5, 6}\n",
    "print(a.symmetric_difference(b))\n",
    "print(a ^ b)"
   ]
  },
  {
   "cell_type": "code",
   "execution_count": null,
   "id": "c1a5ca51",
   "metadata": {},
   "outputs": [],
   "source": [
    "a = {1, 2, 3, 4}\n",
    "b = {3, 4, 5, 6}\n",
    "print(a <= b)\n",
    "print(a.issubset(b))\n",
    "\n",
    "c = {3, 4}\n",
    "d = {3, 4, 5, 6}\n",
    "print(c <= d)\n",
    "print(c.issubset(d))"
   ]
  },
  {
   "cell_type": "code",
   "execution_count": null,
   "id": "2ef34286",
   "metadata": {},
   "outputs": [],
   "source": [
    "a = {3, 4, 5, 6}\n",
    "b = {3, 4, 5, 6}\n",
    "print(a <= b)\n",
    "print(a < b)"
   ]
  },
  {
   "cell_type": "markdown",
   "id": "659730e3",
   "metadata": {},
   "source": [
    "Существуют также операции наподобие `+=`, `-=`, `*=`, `/=`, `//=`:"
   ]
  },
  {
   "cell_type": "code",
   "execution_count": null,
   "id": "0acc02ff",
   "metadata": {},
   "outputs": [],
   "source": [
    "a = {1, 2, 3, 4}\n",
    "b = {3, 4, 5, 6}\n",
    "a &= b\n",
    "print(a)"
   ]
  },
  {
   "cell_type": "code",
   "execution_count": null,
   "id": "6213a529",
   "metadata": {},
   "outputs": [],
   "source": [
    "a = {1, 2, 3, 4}\n",
    "b = {3, 4, 5, 6}\n",
    "a.intersection_update(b)\n",
    "print(a)"
   ]
  },
  {
   "cell_type": "code",
   "execution_count": null,
   "id": "b45f6d02",
   "metadata": {},
   "outputs": [],
   "source": [
    "a = {1, 2, 3, 4}\n",
    "b = {3, 4, 5, 6}\n",
    "a |= b\n",
    "print(a)"
   ]
  },
  {
   "cell_type": "code",
   "execution_count": null,
   "id": "1bab56cd",
   "metadata": {},
   "outputs": [],
   "source": [
    "a = {1, 2, 3, 4}\n",
    "b = {3, 4, 5, 6}\n",
    "a.update(b)\n",
    "print(a)"
   ]
  },
  {
   "cell_type": "code",
   "execution_count": null,
   "id": "bb983f95",
   "metadata": {},
   "outputs": [],
   "source": [
    "a = {1, 2, 3, 4}\n",
    "b = {3, 4, 5, 6}\n",
    "a -= b\n",
    "print(a)"
   ]
  },
  {
   "cell_type": "code",
   "execution_count": null,
   "id": "c228cbd2",
   "metadata": {},
   "outputs": [],
   "source": [
    "a = {1, 2, 3, 4}\n",
    "b = {3, 4, 5, 6}\n",
    "a.difference_update(b)\n",
    "print(a)"
   ]
  },
  {
   "cell_type": "markdown",
   "id": "829faea6",
   "metadata": {},
   "source": [
    "### Сводная таблица операций с множествами:\n",
    "Операция  | Альтернатива | Значение \n",
    "---|---|---\n",
    "`A \\| B` | `A.union(B)`  | Возвращает множество, являющееся объединением множеств A и B. \n",
    "`A \\|= B` | `A.update(B)` | Записывает в A объединение множеств A и B. \n",
    "`A & B` | `A.intersection(B)`  | Возвращает множество, являющееся пересечением множеств A и B. \n",
    "`A &= B` | `A.intersection_update(B)`  | Записывает в A пересечение множеств A и B. \n",
    "`A - B` | `A.difference(B)`  | Возвращает разность множеств A и B (элементы, входящие в A, но не входящие в B). \n",
    "`A -= B` | `A.difference_update(B)`  | Записывает в A разность множеств A и B. \n",
    "`A ^ B` | `A.symmetric_difference(B)`  | Возвращает симметрическую разность множеств A и B (элементы, входящие в A или в B, но не в оба из них одновременно). \n",
    "`A ^= B` | `A.symmetric_difference_update(B)`  | Записывает в A симметрическую разность множеств A и B. \n",
    "`A <= B` | `A.issubset(B)`  | Возвращает True, если A является подмножеством B. \n",
    "`A >= B` | `A.issuperset(B)`  | Возвращает True, если B является подмножеством A. \n",
    "`A < B`  | | Эквивалентно A <= B and A != B \n",
    "`A > B`  | | Эквивалентно A >= B and A != B \n",
    "\n",
    "\n"
   ]
  },
  {
   "cell_type": "markdown",
   "id": "73e0f552",
   "metadata": {},
   "source": [
    "**Упражнение 0**. Вывести на экран все элементы множества A, которых нет в множестве B. Дописать код ниже."
   ]
  },
  {
   "cell_type": "code",
   "execution_count": null,
   "id": "08bfbcd3",
   "metadata": {},
   "outputs": [],
   "source": [
    "A = set('bqlpzlkwehrlulsdhfliuywemrlkjhsdlfjhlzxcovt')\n",
    "B = set('zmxcvnboaiyerjhbziuxdytvasenbriutsdvinjhgik')\n",
    "print(A-B)"
   ]
  },
  {
   "cell_type": "markdown",
   "id": "1b083b9c",
   "metadata": {},
   "source": [
    "**Упражнение 1.** Считать через `input` строку, состоящую из 3 слов и найти буквы, входящие в каждое из слов."
   ]
  },
  {
   "cell_type": "code",
   "execution_count": null,
   "id": "208b4e53",
   "metadata": {},
   "outputs": [],
   "source": [
    "a=set()\n",
    "b=set()\n",
    "c=set()\n",
    "s=input().split()\n",
    "for i in s[0]:\n",
    "    a.add(i)\n",
    "for i in s[1]:\n",
    "    b.add(i)\n",
    "for i in s[2]:\n",
    "    if i in a and i in b:\n",
    "        c.add(i)\n",
    "print(c)   "
   ]
  },
  {
   "cell_type": "markdown",
   "id": "04185215",
   "metadata": {},
   "source": [
    "**Упражнение 2.** Считать через `input` строку, состоящую из произвольного числа слов и найти буквы, входящие в каждое из слов."
   ]
  },
  {
   "cell_type": "code",
   "execution_count": null,
   "id": "799c2ad6",
   "metadata": {},
   "outputs": [],
   "source": [
    "a=set()\n",
    "b=set()\n",
    "s=input().split()\n",
    "for i in s[0]:\n",
    "    a.add(i)\n",
    "k=1\n",
    "while k<len(s):\n",
    "    for j in s[k]:\n",
    "        b.add(j)\n",
    "    a &= b\n",
    "    k=k+1\n",
    "    b=set()\n",
    "print(a)"
   ]
  },
  {
   "cell_type": "markdown",
   "id": "a2829f4f",
   "metadata": {},
   "source": [
    "**Упражнение 3\\*.** Считать через `input` несколько чисел через пробел и найти цифры, входящие в каждое из чисел. Использовать `while`."
   ]
  },
  {
   "cell_type": "code",
   "execution_count": null,
   "id": "0230b435",
   "metadata": {},
   "outputs": [],
   "source": [
    "a=set()\n",
    "b=set()\n",
    "s=input().split()\n",
    "for i in s[0]:\n",
    "    a.add(i)\n",
    "k=1\n",
    "while k<len(s):\n",
    "    for j in s[k]:\n",
    "        b.add(j)\n",
    "    a &= b\n",
    "    k=k+1\n",
    "    b=set()\n",
    "print(a)"
   ]
  },
  {
   "cell_type": "markdown",
   "id": "db051c85",
   "metadata": {},
   "source": [
    "# Dict."
   ]
  },
  {
   "cell_type": "markdown",
   "id": "54d7ac5f",
   "metadata": {},
   "source": [
    "Кроме множеств также часто используются словари. Элемент словаря `dict` - это пара `ключ: значение`.\n",
    "Ключи позволяют обращаться к данным не по индексу, как это реализовано в списках, а по любому удобному значению.\n",
    "\n",
    "### Сводная таблица по операциям со словарями:\n",
    "Операция  | Значение \n",
    "---|---\n",
    "`value = A[key]` | Получение элемента по ключу. Если элемента с заданным ключом в словаре нет, то возникает исключение KeyError. \n",
    "`value = A.get(key)` | Получение элемента по ключу. Если элемента в словаре нет, то get возвращает None. \n",
    "`value = A.get(key, default_value)` | То же, но вместо None метод get возвращает default_value. \n",
    "`key in A` | Проверить принадлежность ключа словарю. \n",
    "`key not in A` | То же, что not key in A. \n",
    "`A[key] = value` | Добавление нового элемента в словарь. \n",
    "`del A[key]` | Удаление пары ключ-значение с ключом key. Возбуждает исключение KeyError, если такого ключа нет. \n",
    "`if key in A: del A[key]` | Удаление пары ключ-значение с предварительной проверкой наличия ключа. \n",
    "`value = A.pop(key)` | Удаление пары ключ-значение с ключом key и возврат значения удаляемого элемента.Если такого ключа нет, то возбуждается KeyError. \n",
    "`value = A.pop(key, default_value)` | То же, но вместо генерации исключения возвращается default_value. \n",
    "`A.pop(key, None)` | Это позволяет проще всего организовать безопасное удаление элемента из словаря. \n",
    "`len(A)` | Возвращает количество пар ключ-значение, хранящихся в словаре. \n"
   ]
  },
  {
   "cell_type": "code",
   "execution_count": null,
   "id": "720f9d83",
   "metadata": {},
   "outputs": [],
   "source": [
    "d = {\"Россия\": \"Москва\", \"Франция\": \"Париж\", \"Германия\": \"Берлин\"}\n",
    "print(d[\"Германия\"])"
   ]
  },
  {
   "cell_type": "markdown",
   "id": "65eb9674",
   "metadata": {},
   "source": [
    "Такой способ хранения данных в данном случае является более естественным и удобным. Создание словаря и добавление элементов:"
   ]
  },
  {
   "cell_type": "code",
   "execution_count": null,
   "id": "d5959d50",
   "metadata": {},
   "outputs": [],
   "source": [
    "d = dict()\n",
    "d[\"Россия\"] = \"Москва\"\n",
    "print(d)"
   ]
  },
  {
   "cell_type": "markdown",
   "id": "6ab6c250",
   "metadata": {},
   "source": [
    "Можно обращаться к ключам словаря, к значениям словаря, итерировать по ключам и по парам ключ-значение."
   ]
  },
  {
   "cell_type": "code",
   "execution_count": null,
   "id": "4fd56b31",
   "metadata": {},
   "outputs": [],
   "source": [
    "d = {\"Россия\": \"Москва\", \"Франция\": \"Париж\", \"Германия\": \"Берлин\"}\n",
    "print(d.keys())\n",
    "print(d.values())"
   ]
  },
  {
   "cell_type": "code",
   "execution_count": null,
   "id": "88282d70",
   "metadata": {},
   "outputs": [],
   "source": [
    "for k in d.keys():\n",
    "    print(d[k])"
   ]
  },
  {
   "cell_type": "code",
   "execution_count": null,
   "id": "17babae5",
   "metadata": {},
   "outputs": [],
   "source": [
    "for k, v in d.items():\n",
    "    print(k, v)"
   ]
  },
  {
   "cell_type": "code",
   "execution_count": null,
   "id": "703ed718",
   "metadata": {},
   "outputs": [],
   "source": [
    "print(d.items())"
   ]
  },
  {
   "cell_type": "code",
   "execution_count": null,
   "id": "a1ec80c9",
   "metadata": {},
   "outputs": [],
   "source": [
    "print(list(d.items()))"
   ]
  },
  {
   "cell_type": "markdown",
   "id": "f3ac4333",
   "metadata": {},
   "source": [
    "Можем сортировать такие объекты, например, по странам в лексикографическом порядке:"
   ]
  },
  {
   "cell_type": "code",
   "execution_count": null,
   "id": "2e2dc8e7",
   "metadata": {},
   "outputs": [],
   "source": [
    "d = list(d.items())\n",
    "d = sorted(d, key = lambda x: x[0])\n",
    "print(d)"
   ]
  },
  {
   "cell_type": "markdown",
   "id": "07396df1",
   "metadata": {},
   "source": [
    "# Set comprehensions. Dict comprehensions."
   ]
  },
  {
   "cell_type": "markdown",
   "id": "fe004723",
   "metadata": {},
   "source": [
    "Можно генерировать множества и словари по аналогии со списками:"
   ]
  },
  {
   "cell_type": "code",
   "execution_count": null,
   "id": "e3332541",
   "metadata": {},
   "outputs": [],
   "source": [
    "a = [i for i in range(-5, 5)]\n",
    "print(a)\n",
    "a = {i for i in range(-5, 5)}\n",
    "print(a)\n",
    "a = [abs(i) for i in range(-5, 5)]\n",
    "print(a)\n",
    "a = {abs(i) for i in range(-5, 5)}\n",
    "print(a)"
   ]
  },
  {
   "cell_type": "markdown",
   "id": "9b6f88fb",
   "metadata": {},
   "source": [
    "Для определения порядкового номера символа в таблице символов ASCII используется функция `ord`:"
   ]
  },
  {
   "cell_type": "code",
   "execution_count": null,
   "id": "7793205f",
   "metadata": {},
   "outputs": [],
   "source": [
    "s = \"a\"\n",
    "print(ord(s))\n",
    "print(ord('A'), ord('Z'), ord('a'), ord('z'))"
   ]
  },
  {
   "cell_type": "markdown",
   "id": "9f5e8dd7",
   "metadata": {},
   "source": [
    "Обратная к ней функция, возвращающая символ по его порядковому номеру - `chr`:"
   ]
  },
  {
   "cell_type": "code",
   "execution_count": null,
   "id": "8d0526f0",
   "metadata": {},
   "outputs": [],
   "source": [
    "print(chr(65), chr(90), chr(97), chr(122))"
   ]
  },
  {
   "cell_type": "markdown",
   "id": "5dffd7ed",
   "metadata": {},
   "source": [
    "Создадим словарь, состоящий из пар элементов `номер буквы в таблице ASCII`: `буква`."
   ]
  },
  {
   "cell_type": "code",
   "execution_count": null,
   "id": "9c0b6b98",
   "metadata": {},
   "outputs": [],
   "source": [
    "d = {i: chr(i) for i in range(65, 91)}\n",
    "print(d)\n",
    "print(d[70])"
   ]
  },
  {
   "cell_type": "markdown",
   "id": "240aad8a",
   "metadata": {},
   "source": [
    "**Упражнение 4.** Создайте аналогичный словарь для маленьких букв, выведите его, затем добавьте в него большие буквы и выведите итоговый словарь."
   ]
  },
  {
   "cell_type": "code",
   "execution_count": null,
   "id": "4c50590b",
   "metadata": {},
   "outputs": [],
   "source": [
    "d = {i: chr(i) for i in range(97, 123)}\n",
    "print(d)\n",
    "for key in range(65, 91,1):\n",
    "    d[key] = chr(key)\n",
    "print(d)"
   ]
  },
  {
   "cell_type": "markdown",
   "id": "d8bccf0d",
   "metadata": {},
   "source": [
    "**Упражнение 5.** Создайте словарь, в котором каждой букве (как ключу) будет соответствовать ее порядковый номер в алфавите (значение). Рекомендация: использовать функции `keys`, `values` или `items` для словаря из предыдущего упражнения, чтобы создать новый."
   ]
  },
  {
   "cell_type": "code",
   "execution_count": null,
   "id": "886f263e",
   "metadata": {},
   "outputs": [],
   "source": [
    "d={}\n",
    "for key in range(65, 91, 1):\n",
    "    d[chr(key)]=key\n",
    "for key in range(97, 123, 1):\n",
    "    d[chr(key)]=key\n",
    "print(d)"
   ]
  },
  {
   "cell_type": "markdown",
   "id": "7085b93d",
   "metadata": {},
   "source": [
    "**Упражнение 6.** Считайте слово с клавиатуры и найдите для него сумму номеров букв. Если некоторые буквы в слове повторяются (используйте такое слово), нужно считать только по уникальным буквам. Например, для строк 'abc' и 'abcbc' сумма будет 1+2+3=6, для xyz или zyxyz 24+25+26=75"
   ]
  },
  {
   "cell_type": "code",
   "execution_count": null,
   "id": "5146a823",
   "metadata": {},
   "outputs": [],
   "source": [
    "d={}\n",
    "for key in range(1,27,1):\n",
    "    d[chr(key+96)]=key\n",
    "a=input()\n",
    "b=set()\n",
    "s=0\n",
    "for i in a:\n",
    "    if i not in b:\n",
    "        b.add(i)\n",
    "        s=s+d[i]\n",
    "print(s)\n"
   ]
  },
  {
   "cell_type": "markdown",
   "id": "ef6e0118",
   "metadata": {},
   "source": [
    "**Упражнение 7.** Считайте с клавиатуры количество пар синонимов, затем сами пары синонимов, затем одно из слов среди этих пар. Выведите его синоним. Допишите код, заменив все TODO. Пример ввода:\n",
    "\n",
    "    3\n",
    "    Hello Hi\n",
    "    Bye Goodbye\n",
    "    List Array\n",
    "    Goodbye"
   ]
  },
  {
   "cell_type": "code",
   "execution_count": null,
   "id": "f88bedf5",
   "metadata": {},
   "outputs": [],
   "source": [
    "n = int(input())\n",
    "d1 = dict()\n",
    "d2 = dict()\n",
    "for i in range(n):\n",
    "    s = input().split()\n",
    "    d1[s[0]]=s[1]\n",
    "    d2[s[1]]=s[0]\n",
    "c=input()\n",
    "if c in d1: print(d1[c])\n",
    "else: print(d2[c])"
   ]
  },
  {
   "cell_type": "markdown",
   "id": "a2c29739",
   "metadata": {},
   "source": [
    "# Частотный анализ."
   ]
  },
  {
   "cell_type": "markdown",
   "id": "7abe9a13",
   "metadata": {},
   "source": [
    "Вместо использования метода `count` для подсчета числа вхождений символа в большой текст лучше использовать `dict`. Для многократного поиска это будет работать быстрее, так как мы заполним словарь за один проход по данному тексту."
   ]
  },
  {
   "cell_type": "code",
   "execution_count": null,
   "id": "723c67b4",
   "metadata": {},
   "outputs": [],
   "source": [
    "s = \"abracadabra\"\n",
    "d = dict()\n",
    "for i in s:\n",
    "    if i in d:\n",
    "        d[i] += 1\n",
    "    else:\n",
    "        d[i] = 1\n",
    "print(d)"
   ]
  },
  {
   "cell_type": "code",
   "execution_count": null,
   "id": "ea9daa69",
   "metadata": {},
   "outputs": [],
   "source": [
    "print(s.count('a'))\n",
    "print(d['a'])"
   ]
  },
  {
   "cell_type": "code",
   "execution_count": null,
   "id": "d7233a83",
   "metadata": {},
   "outputs": [],
   "source": [
    "s = \"abracadabra\" * 1000000\n",
    "print(s[:100])"
   ]
  },
  {
   "cell_type": "code",
   "execution_count": null,
   "id": "37ed4a11",
   "metadata": {},
   "outputs": [],
   "source": [
    "import time\n",
    "d = dict()\n",
    "for i in s:\n",
    "    if i in d:\n",
    "        d[i] += 1\n",
    "    else:\n",
    "        d[i] = 1\n",
    "t1 = time.time()\n",
    "print(d['a'])\n",
    "t2 = time.time()\n",
    "print(t2 - t1)"
   ]
  },
  {
   "cell_type": "code",
   "execution_count": null,
   "id": "51bcb690",
   "metadata": {},
   "outputs": [],
   "source": [
    "t3 = time.time()\n",
    "print(s.count('a'))\n",
    "t4 = time.time()\n",
    "print(t4 - t3)"
   ]
  },
  {
   "cell_type": "markdown",
   "id": "6ea26fd0",
   "metadata": {},
   "source": [
    "**Упражнение 8**. Считайте с клавиатуры строку, удалите из нее все цифры и пробелы. Создайте словарь, в котором ключами будут уникальные символы, а значениями их частота вхождения. Частотой вхождения называется отношение числа вхождений данного символа в исходную строку к числу символов в исходной строке."
   ]
  },
  {
   "cell_type": "code",
   "execution_count": 2,
   "id": "f4757a1a",
   "metadata": {},
   "outputs": [
    {
     "name": "stdout",
     "output_type": "stream",
     "text": [
      "htt67 rrrc pppp\n",
      "{'h': 0.09090909090909091, 't': 0.18181818181818182, 'r': 0.2727272727272727, 'c': 0.09090909090909091, 'p': 0.36363636363636365}\n"
     ]
    }
   ],
   "source": [
    "s=input()\n",
    "d= dict()\n",
    "s =\"\".join(c for c in s if c.isalpha())\n",
    "l=len(s)\n",
    "for i in s:\n",
    "    if i in d:\n",
    "        d[i] += 1/l\n",
    "    else:\n",
    "        d[i] = 1/l\n",
    "print(d)"
   ]
  },
  {
   "cell_type": "markdown",
   "id": "55b9b084",
   "metadata": {},
   "source": [
    "# Collections."
   ]
  },
  {
   "cell_type": "markdown",
   "id": "43643189",
   "metadata": {},
   "source": [
    "Существуют также другие стандартные коллекции, которые позволяют решать некоторые задачи еще проще."
   ]
  },
  {
   "cell_type": "code",
   "execution_count": null,
   "id": "c03034b8",
   "metadata": {},
   "outputs": [],
   "source": [
    "import collections\n",
    "cnt = collections.Counter()\n",
    "for word in ['red', 'blue', 'red', 'green', 'blue', 'blue']:\n",
    "    cnt[word] += 1\n",
    "cnt"
   ]
  },
  {
   "cell_type": "code",
   "execution_count": null,
   "id": "1c25255c",
   "metadata": {},
   "outputs": [],
   "source": [
    "cnt['red']"
   ]
  },
  {
   "cell_type": "markdown",
   "id": "8271fcbc",
   "metadata": {},
   "source": [
    "Можно сократить запись, переимпортировав из библиотеки конкретный модуль:"
   ]
  },
  {
   "cell_type": "code",
   "execution_count": null,
   "id": "0b252aa4",
   "metadata": {},
   "outputs": [],
   "source": [
    "from collections import Counter\n",
    "c = Counter(a=4, b=2, c=0, d=-2)\n",
    "print(sorted(c.elements()))"
   ]
  },
  {
   "cell_type": "code",
   "execution_count": null,
   "id": "7022cb09",
   "metadata": {},
   "outputs": [],
   "source": [
    "print(collections.Counter('abracadabra').most_common(3))"
   ]
  },
  {
   "cell_type": "code",
   "execution_count": null,
   "id": "874bd5c8",
   "metadata": {},
   "outputs": [],
   "source": [
    "c = Counter(a=4, b=2, c=0, d=-2)\n",
    "d = Counter(a=1, b=2, c=3, d=4)\n",
    "c.subtract(d)\n",
    "print(c)"
   ]
  },
  {
   "cell_type": "code",
   "execution_count": null,
   "id": "a91da212",
   "metadata": {},
   "outputs": [],
   "source": [
    "c = Counter(a=10, b=5, c=0)\n",
    "c.total() # new for Python 3.10+"
   ]
  },
  {
   "cell_type": "markdown",
   "id": "b2a126a6",
   "metadata": {},
   "source": [
    "С другими коллекциями вы можете познакомиться самостоятельно, их использование выходит за рамки упражнений и контеста."
   ]
  },
  {
   "cell_type": "code",
   "execution_count": null,
   "id": "ac9b8ff1",
   "metadata": {},
   "outputs": [],
   "source": []
  }
 ],
 "metadata": {
  "kernelspec": {
   "display_name": "Python 3 (ipykernel)",
   "language": "python",
   "name": "python3"
  },
  "language_info": {
   "codemirror_mode": {
    "name": "ipython",
    "version": 3
   },
   "file_extension": ".py",
   "mimetype": "text/x-python",
   "name": "python",
   "nbconvert_exporter": "python",
   "pygments_lexer": "ipython3",
   "version": "3.9.12"
  }
 },
 "nbformat": 4,
 "nbformat_minor": 5
}
